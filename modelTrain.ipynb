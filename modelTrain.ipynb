{
 "cells": [
  {
   "cell_type": "code",
   "execution_count": 18,
   "metadata": {},
   "outputs": [],
   "source": [
    "import pandas as pd\n",
    "import numpy as np\n",
    "import matplotlib.pyplot as plt"
   ]
  },
  {
   "cell_type": "code",
   "execution_count": 19,
   "metadata": {},
   "outputs": [],
   "source": [
    "# 读取processed_data\n",
    "x_train_bow = np.load('./processed_data/xtrain_bow.npy')\n",
    "x_test_bow = np.load('./processed_data/xtest_bow.npy')\n",
    "y_train_bow_tf = np.load('./processed_data/ytrain.npy')\n",
    "y_test_bow_tf = np.load('./processed_data/ytest.npy')\n",
    "x_train_tf = np.load('./processed_data/xtrain_tf.npy')\n",
    "x_test_tf = np.load('./processed_data/xtest_tf.npy')\n",
    "x_train_vec = np.load('./processed_data/xtrain_vec.npy')\n",
    "x_test_vec = np.load('./processed_data/xtest_vec.npy')\n",
    "y_train_vec = np.load('./processed_data/ytrain_vec.npy')\n",
    "y_test_vec = np.load('./processed_data/ytest_vec.npy')"
   ]
  },
  {
   "cell_type": "code",
   "execution_count": 20,
   "metadata": {},
   "outputs": [],
   "source": [
    "# 读取word2idx文件\n",
    "import pickle\n",
    "with open('./models/word2idx.pkl','rb') as f:\n",
    "    word2idx = pickle.load(f)"
   ]
  },
  {
   "cell_type": "code",
   "execution_count": 21,
   "metadata": {},
   "outputs": [
    {
     "name": "stdout",
     "output_type": "stream",
     "text": [
      "(5600, 15244)\n",
      "(5600, 15244)\n",
      "(5600, 50)\n"
     ]
    }
   ],
   "source": [
    "# 查看一下规模\n",
    "print(x_train_bow.shape)\n",
    "print(x_train_tf.shape)\n",
    "print(x_train_vec.shape)"
   ]
  },
  {
   "cell_type": "code",
   "execution_count": 22,
   "metadata": {},
   "outputs": [
    {
     "name": "stdout",
     "output_type": "stream",
     "text": [
      "[[0 0 0 ... 0 0 0]\n",
      " [0 0 0 ... 0 0 0]\n",
      " [0 0 0 ... 0 0 0]\n",
      " ...\n",
      " [0 0 0 ... 0 0 0]\n",
      " [0 0 0 ... 0 0 0]\n",
      " [0 0 0 ... 0 0 0]]\n",
      "[[0. 0. 0. ... 0. 0. 0.]\n",
      " [0. 0. 0. ... 0. 0. 0.]\n",
      " [0. 0. 0. ... 0. 0. 0.]\n",
      " ...\n",
      " [0. 0. 0. ... 0. 0. 0.]\n",
      " [0. 0. 0. ... 0. 0. 0.]\n",
      " [0. 0. 0. ... 0. 0. 0.]]\n",
      "[[   0    0    0    0    0    0    0    0    0    0    0    0    0    0\n",
      "     0    0    0    0    0    0  304   15 2682  281    3  141    4  725\n",
      "     9 4158  214 5767  281    0    0    6   76    3  966   70  281  195\n",
      "  4061 1618  117  912 3048    5 2682  281]\n",
      " [   0    0    0    0    0    0    0    0    0    0    0    0    0    0\n",
      "     0    0    0   23   89   59  111   23    2 1706   33  290  430 1315\n",
      "     3   53    4    7    5  332 1706  968   81    6  115 3395   10   21\n",
      "     4  234    0    0 1058   49  663   70]\n",
      " [   0    0    0    0    0    0    0    0    0    0    0    0    0    0\n",
      "     0    0    0    0    0    0    0    0    0    0    0    0    0    0\n",
      "     0    0    0    0    0    0    0    0  969    0   83   23  144    3\n",
      "   472  544    9    0   72   20  129    3]\n",
      " [   0    0    0    0    0    0    0    0    0    0    0    0    0    0\n",
      "     0    0    0    0    0    0    0   82  573    0    0   15    3  195\n",
      "   125 4900  284 2077    2   13  181   13   77   60    6  162   85    6\n",
      "    80  450  142 2288  450  395  246   15]\n",
      " [   0    0    0    0    0    0    0    0    0    0    0    0    0    0\n",
      "     0    0    0    0    0    0    0    0    0    0    0  569 3010   17\n",
      "    13  223  117    2  205  287  112 2096  212    2 3061  305  137  293\n",
      "   404  820 3062  569   16    2  886 1077]\n",
      " [   0    0    0    0    0    0    0    0    0    0    0    0    0    0\n",
      "     0    0    0    0    0    0    0    0    0    0    0    0    0  187\n",
      "   164 4484 1565    4  137  293  488  163 1946   52   44  292    7  245\n",
      "     7    0    2   22   29   23    4  215]\n",
      " [   0    0    0    0    0    0    0    0    0    0    0    0    0    0\n",
      "     0    0    0    0    0    0    0    0    0    0    0    0    0    0\n",
      "     0    0    0    0    2   27  289 2278    9    9  350  587 3227    0\n",
      "     0  397 1154   21   32   28  140   17]\n",
      " [   0    0    0    0    0    0    0    0    0    0    0    0    0    0\n",
      "     0    0    0    0    0    0    0    0    0    0    0    0    0    0\n",
      "     0    0    0    0    0    0    0    0    0    0    0    0    0    0\n",
      "     3    2   14   23    5    3   15   19]\n",
      " [   0    0    0    0    0    0    0   43    3 4387 1630  334    3   18\n",
      "     4  130  438  130   25 1886    3  926   56  456   10   71 2673 2797\n",
      "     4  449  135 2920  661 1118    0  661   33  294 1835  197  567   86\n",
      "  1427 5481  135  491  537   70 6282  485]\n",
      " [   0    0    0    0    0    0    0    0    0    0    0    0    0    0\n",
      "     0    0    0    0    0    0    0    0    0    0    0    0    0    0\n",
      "   147   26  151   21  150   33   86  213    7 2972  801   64    0  154\n",
      "     2  148    5  247   12    0   57   17]]\n"
     ]
    }
   ],
   "source": [
    "# 查看前十行\n",
    "print(x_train_bow[:10])\n",
    "print(x_train_tf[:10])\n",
    "print(x_train_vec[:10])"
   ]
  },
  {
   "cell_type": "code",
   "execution_count": 23,
   "metadata": {},
   "outputs": [
    {
     "name": "stdout",
     "output_type": "stream",
     "text": [
      "int64\n",
      "float64\n",
      "int32\n"
     ]
    }
   ],
   "source": [
    "# 查看最底层数字的数据类型\n",
    "print(x_train_bow[0][0].dtype)\n",
    "print(x_train_tf[0][0].dtype)\n",
    "print(x_train_vec[0][0].dtype)"
   ]
  },
  {
   "attachments": {},
   "cell_type": "markdown",
   "metadata": {},
   "source": [
    "# 训练LSTM"
   ]
  },
  {
   "cell_type": "code",
   "execution_count": 24,
   "metadata": {},
   "outputs": [
    {
     "name": "stdout",
     "output_type": "stream",
     "text": [
      "GPU is available\n"
     ]
    }
   ],
   "source": [
    "# 需要下载pytorch GPU版本，配合cuda，不然训练速度可能较慢\n",
    "# 参考：https://zhuanlan.zhihu.com/p/106133822 进行安装相应版本\n",
    "\n",
    "import torch\n",
    "from torch.utils.data import TensorDataset, DataLoader\n",
    "import torch.nn as nn\n",
    "# 使用GPU\n",
    "if torch.cuda.is_available():\n",
    "    device = torch.device(\"cuda\")\n",
    "    print(\"GPU is available\")\n",
    "else:\n",
    "    device = torch.device(\"cpu\")\n",
    "    print(\"GPU is not available, CPU is used\") "
   ]
  },
  {
   "cell_type": "code",
   "execution_count": 25,
   "metadata": {},
   "outputs": [],
   "source": [
    "# TensorDataset 就类似zip变为元组形式\n",
    "# DataLoader 就是类似list进行不过就是将一个batch打包在一起加速，元素变为一个batch了\n",
    "\n",
    "# 从 x_test_vec 中使用随机数切分为验证集和测试集\n",
    "\n",
    "# 随机数种子\n",
    "seed = 42\n",
    "np.random.seed(seed)\n",
    "torch.manual_seed(seed)\n",
    "\n",
    "# 随机数切分\n",
    "from sklearn.model_selection import train_test_split\n",
    "x_test_vec, x_val_vec, y_test_vec, y_val_vec = train_test_split(x_test_vec, y_test_vec, test_size=0.1, random_state=seed)\n",
    "\n",
    "# 转换为TensorDataset\n",
    "train_data_vec = TensorDataset(torch.from_numpy(x_train_vec).type(torch.Tensor), torch.from_numpy(y_train_vec).type(torch.Tensor))\n",
    "val_data_vec = TensorDataset(torch.from_numpy(x_val_vec).type(torch.Tensor), torch.from_numpy(y_val_vec).type(torch.Tensor))\n",
    "test_data_vec = TensorDataset(torch.from_numpy(x_test_vec).type(torch.Tensor), torch.from_numpy(y_test_vec).type(torch.Tensor))\n",
    "\n",
    "batch_size = 40\n",
    "\n",
    "# 设置drop_last 防止最后一个batch不够batch_size，导致数据量不对\n",
    "train_loader_vec = DataLoader(train_data_vec, shuffle=True, batch_size=batch_size,drop_last=True)\n",
    "val_loader_vec = DataLoader(val_data_vec, shuffle=True, batch_size=batch_size,drop_last=True)\n",
    "test_loader_vec = DataLoader(test_data_vec, shuffle=True, batch_size=batch_size,drop_last=True)"
   ]
  },
  {
   "cell_type": "code",
   "execution_count": 26,
   "metadata": {},
   "outputs": [
    {
     "name": "stdout",
     "output_type": "stream",
     "text": [
      "torch.Size([5600, 50])\n",
      "torch.Size([240, 50])\n",
      "torch.Size([2160, 50])\n"
     ]
    }
   ],
   "source": [
    "# 查看数据训练的规模\n",
    "print(train_loader_vec.dataset.tensors[0].shape)\n",
    "print(val_loader_vec.dataset.tensors[0].shape)\n",
    "print(test_loader_vec.dataset.tensors[0].shape)"
   ]
  },
  {
   "cell_type": "code",
   "execution_count": 27,
   "metadata": {},
   "outputs": [],
   "source": [
    "class LSTM(nn.Module):\n",
    "    def __init__(self, vocab_size, output_size, embedding_dim, hidden_dim, n_layers, drop_prob=0.5):\n",
    "        super(LSTM, self).__init__()\n",
    "        self.output_size = output_size\n",
    "        self.n_layers = n_layers\n",
    "        self.hidden_dim = hidden_dim\n",
    "        \n",
    "        self.embedding = nn.Embedding(vocab_size, embedding_dim)\n",
    "        self.lstm = nn.LSTM(embedding_dim, hidden_dim, n_layers, dropout=drop_prob, batch_first=True)\n",
    "        self.dropout = nn.Dropout(drop_prob)\n",
    "        self.fc = nn.Linear(hidden_dim, output_size)\n",
    "        self.sigmoid = nn.Sigmoid()\n",
    "        \n",
    "    def forward(self, x, hidden):\n",
    "        batch_size = x.size(0)\n",
    "        x = x.long()\n",
    "        embeds = self.embedding(x)\n",
    "        lstm_out, hidden = self.lstm(embeds, hidden)\n",
    "        lstm_out = lstm_out.contiguous().view(-1, self.hidden_dim)\n",
    "        \n",
    "        out = self.dropout(lstm_out)\n",
    "        out = self.fc(out)\n",
    "        out = self.sigmoid(out)\n",
    "        \n",
    "        out = out.view(batch_size, -1)\n",
    "        out = out[:,-1]\n",
    "        return out, hidden\n",
    "    \n",
    "    def init_hidden(self, batch_size):\n",
    "        weight = next(self.parameters()).data\n",
    "        hidden = (weight.new(self.n_layers, batch_size, self.hidden_dim).zero_().to(device),\n",
    "                      weight.new(self.n_layers, batch_size, self.hidden_dim).zero_().to(device))\n",
    "        return hidden"
   ]
  },
  {
   "cell_type": "code",
   "execution_count": 35,
   "metadata": {},
   "outputs": [],
   "source": [
    "vocab_size = len(word2idx) + 1\n",
    "output_size = 1\n",
    "embedding_dim = 400\n",
    "hidden_dim = 256\n",
    "n_layers = 2\n",
    "\n",
    "model = LSTM(vocab_size, output_size, embedding_dim, hidden_dim, n_layers)\n",
    "model.to(device)\n",
    "\n",
    "lr=0.005\n",
    "criterion = nn.BCELoss()\n",
    "optimizer = torch.optim.Adam(model.parameters(), lr=lr)"
   ]
  },
  {
   "cell_type": "code",
   "execution_count": 36,
   "metadata": {},
   "outputs": [
    {
     "name": "stdout",
     "output_type": "stream",
     "text": [
      "Epoch: 1/3... Step: 100... Loss: 0.501291... Val Loss: 0.549179\n",
      "Validation loss decreased (inf --> 0.549179).  Saving model ...\n",
      "Epoch: 2/3... Step: 200... Loss: 0.348684... Val Loss: 0.484888\n",
      "Validation loss decreased (0.549179 --> 0.484888).  Saving model ...\n",
      "Epoch: 3/3... Step: 300... Loss: 0.422833... Val Loss: 0.618378\n",
      "Epoch: 3/3... Step: 400... Loss: 0.208310... Val Loss: 0.497837\n"
     ]
    }
   ],
   "source": [
    "epochs = 3\n",
    "counter = 0\n",
    "clip = 5\n",
    "valid_loss_min = np.Inf\n",
    "\n",
    "if(torch.cuda.is_available()):\n",
    "    model.cuda()\n",
    "\n",
    "model.train()\n",
    "\n",
    "for i in range(epochs):    \n",
    "    h = model.init_hidden(batch_size)\n",
    "    \n",
    "    for inputs, labels in train_loader_vec:\n",
    "        counter += 1\n",
    "        h = tuple([e.data for e in h])\n",
    "        inputs, labels = inputs.to(device), labels.to(device)\n",
    "        model.zero_grad()\n",
    "        output, h = model(inputs, h)\n",
    "        loss = criterion(output.squeeze(), labels.float())\n",
    "        loss.backward()\n",
    "        nn.utils.clip_grad_norm_(model.parameters(), clip)\n",
    "        optimizer.step()\n",
    "\n",
    "        if counter % 100 == 0 :\n",
    "            val_h = model.init_hidden(batch_size)\n",
    "            val_losses = []\n",
    "            model.eval()\n",
    "            for inp, lab in val_loader_vec:\n",
    "                val_h = tuple([each.data for each in val_h])\n",
    "                inp, lab = inp.to(device), lab.to(device)\n",
    "                out, val_h = model(inp, val_h)\n",
    "                val_loss = criterion(out.squeeze(), lab.float())\n",
    "                val_losses.append(val_loss.item())\n",
    "                \n",
    "            model.train()\n",
    "            print(\"Epoch: {}/{}...\".format(i+1, epochs),\n",
    "                  \"Step: {}...\".format(counter),\n",
    "                  \"Loss: {:.6f}...\".format(loss.item()),\n",
    "                  \"Val Loss: {:.6f}\".format(np.mean(val_losses)))\n",
    "            if np.mean(val_losses) <= valid_loss_min:\n",
    "                torch.save(model.state_dict(), './models/state_dict.pt')\n",
    "                print('Validation loss decreased ({:.6f} --> {:.6f}).  Saving model ...'.format(valid_loss_min,np.mean(val_losses)))\n",
    "                valid_loss_min = np.mean(val_losses)\n",
    "        "
   ]
  },
  {
   "cell_type": "code",
   "execution_count": 37,
   "metadata": {},
   "outputs": [
    {
     "name": "stdout",
     "output_type": "stream",
     "text": [
      "Test loss: 0.494\n",
      "Test accuracy: 79.537%\n"
     ]
    }
   ],
   "source": [
    "# 读取最优模型\n",
    "model.load_state_dict(torch.load('./models/state_dict.pt'))\n",
    "\n",
    "\n",
    "# 检测模型的准确率，用于微调模型，初步查看以下\n",
    "test_losses = []\n",
    "num_correct = 0\n",
    "h = model.init_hidden(batch_size)\n",
    "\n",
    "model.eval()\n",
    "for inputs, labels in test_loader_vec:\n",
    "    h = tuple([each.data for each in h])\n",
    "    inputs, labels = inputs.to(device), labels.to(device)\n",
    "    output, h = model(inputs, h)\n",
    "    test_loss = criterion(output.squeeze(), labels.float())\n",
    "    test_losses.append(test_loss.item())\n",
    "    pred = torch.round(output.squeeze())  # Rounds the output to 0/1\n",
    "    correct_tensor = pred.eq(labels.float().view_as(pred))\n",
    "    correct = np.squeeze(correct_tensor.cpu().numpy())\n",
    "    num_correct += np.sum(correct)\n",
    "\n",
    "print(\"Test loss: {:.3f}\".format(np.mean(test_losses)))\n",
    "test_acc = num_correct/len(test_loader_vec.dataset)\n",
    "print(\"Test accuracy: {:.3f}%\".format(test_acc*100))"
   ]
  }
 ],
 "metadata": {
  "kernelspec": {
   "display_name": "base",
   "language": "python",
   "name": "python3"
  },
  "language_info": {
   "codemirror_mode": {
    "name": "ipython",
    "version": 3
   },
   "file_extension": ".py",
   "mimetype": "text/x-python",
   "name": "python",
   "nbconvert_exporter": "python",
   "pygments_lexer": "ipython3",
   "version": "3.9.16"
  },
  "orig_nbformat": 4
 },
 "nbformat": 4,
 "nbformat_minor": 2
}
